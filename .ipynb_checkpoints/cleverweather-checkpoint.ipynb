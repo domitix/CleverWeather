{
 "cells": [
  {
   "cell_type": "code",
   "execution_count": 25,
   "metadata": {},
   "outputs": [],
   "source": [
    "import paho.mqtt.client as mqtt\n",
    "#from azure.iot.device.aio import IoTHubDeviceClient\n",
    "import random\n",
    "import time"
   ]
  },
  {
   "cell_type": "code",
   "execution_count": 26,
   "metadata": {},
   "outputs": [],
   "source": [
    "def generate_weather():\n",
    "    t = random.uniform(-50.0,50.01)\n",
    "    te = round(t,2)\n",
    "    temp = str(te)+\"°C\"\n",
    "    h = random.randint(0,100)\n",
    "    hum = str(h) + \"%\"\n",
    "    w_d = random.randint(0,360)\n",
    "    wind_dir = str(w_d)+\"°\"\n",
    "    w_i = random.randint(0,100)\n",
    "    wind_int = str(w_i)+\" m/s\"\n",
    "    r = random.randint(0,50)\n",
    "    rain = str(r)+\" mm/h\"\n",
    "    \n",
    "    return temp, hum, wind_dir, wind_int, rain"
   ]
  },
  {
   "cell_type": "code",
   "execution_count": 22,
   "metadata": {},
   "outputs": [
    {
     "data": {
      "text/plain": [
       "'2020-03-20 17:36'"
      ]
     },
     "execution_count": 22,
     "metadata": {},
     "output_type": "execute_result"
    }
   ],
   "source": []
  },
  {
   "cell_type": "code",
   "execution_count": 27,
   "metadata": {},
   "outputs": [],
   "source": [
    "devices = [\"foggia_1\", \"roma_1\",\"rome_2\"]"
   ]
  },
  {
   "cell_type": "code",
   "execution_count": 28,
   "metadata": {},
   "outputs": [
    {
     "name": "stdout",
     "output_type": "stream",
     "text": [
      "0.7°C\n",
      "64%\n",
      "284°\n",
      "45 m/s\n",
      "47 mm/h\n",
      "foggia_1\n"
     ]
    }
   ],
   "source": [
    "temp,hum,wind_dir,wind_int, rain = generate_weather()\n",
    "print(temp)\n",
    "print(hum)\n",
    "print(wind_dir)\n",
    "print(wind_int)\n",
    "print(rain)\n",
    "\n",
    "print(random.choice(clients))"
   ]
  },
  {
   "cell_type": "code",
   "execution_count": 8,
   "metadata": {},
   "outputs": [
    {
     "ename": "ConnectionRefusedError",
     "evalue": "[WinError 10061] Impossibile stabilire la connessione. Rifiuto persistente del computer di destinazione",
     "output_type": "error",
     "traceback": [
      "\u001b[1;31m---------------------------------------------------------------------------\u001b[0m",
      "\u001b[1;31mConnectionRefusedError\u001b[0m                    Traceback (most recent call last)",
      "\u001b[1;32m<ipython-input-8-ce4dbcc751fa>\u001b[0m in \u001b[0;36m<module>\u001b[1;34m\u001b[0m\n\u001b[0;32m      6\u001b[0m \u001b[1;33m\u001b[0m\u001b[0m\n\u001b[0;32m      7\u001b[0m \u001b[0mip\u001b[0m \u001b[1;33m=\u001b[0m \u001b[1;34m\"127.0.0.1\"\u001b[0m\u001b[1;33m\u001b[0m\u001b[1;33m\u001b[0m\u001b[0m\n\u001b[1;32m----> 8\u001b[1;33m \u001b[0mclient\u001b[0m\u001b[1;33m.\u001b[0m\u001b[0mconnect\u001b[0m\u001b[1;33m(\u001b[0m\u001b[0mip\u001b[0m\u001b[1;33m,\u001b[0m\u001b[0mport\u001b[0m\u001b[1;33m=\u001b[0m\u001b[1;36m1883\u001b[0m\u001b[1;33m,\u001b[0m \u001b[0mkeepalive\u001b[0m\u001b[1;33m=\u001b[0m\u001b[1;36m60\u001b[0m\u001b[1;33m,\u001b[0m\u001b[0mbind_address\u001b[0m\u001b[1;33m=\u001b[0m\u001b[1;34m\"\"\u001b[0m\u001b[1;33m)\u001b[0m\u001b[1;33m\u001b[0m\u001b[1;33m\u001b[0m\u001b[0m\n\u001b[0m\u001b[0;32m      9\u001b[0m \u001b[1;33m\u001b[0m\u001b[0m\n\u001b[0;32m     10\u001b[0m \u001b[0mclient_id\u001b[0m \u001b[1;33m=\u001b[0m \u001b[1;36m4\u001b[0m\u001b[1;33m\u001b[0m\u001b[1;33m\u001b[0m\u001b[0m\n",
      "\u001b[1;32mc:\\users\\domic\\appdata\\local\\continuum\\anaconda3\\envs\\tensorflow\\lib\\site-packages\\paho\\mqtt\\client.py\u001b[0m in \u001b[0;36mconnect\u001b[1;34m(self, host, port, keepalive, bind_address, bind_port, clean_start, properties)\u001b[0m\n\u001b[0;32m    935\u001b[0m         self.connect_async(host, port, keepalive,\n\u001b[0;32m    936\u001b[0m                            bind_address, bind_port, clean_start, properties)\n\u001b[1;32m--> 937\u001b[1;33m         \u001b[1;32mreturn\u001b[0m \u001b[0mself\u001b[0m\u001b[1;33m.\u001b[0m\u001b[0mreconnect\u001b[0m\u001b[1;33m(\u001b[0m\u001b[1;33m)\u001b[0m\u001b[1;33m\u001b[0m\u001b[1;33m\u001b[0m\u001b[0m\n\u001b[0m\u001b[0;32m    938\u001b[0m \u001b[1;33m\u001b[0m\u001b[0m\n\u001b[0;32m    939\u001b[0m     def connect_srv(self, domain=None, keepalive=60, bind_address=\"\",\n",
      "\u001b[1;32mc:\\users\\domic\\appdata\\local\\continuum\\anaconda3\\envs\\tensorflow\\lib\\site-packages\\paho\\mqtt\\client.py\u001b[0m in \u001b[0;36mreconnect\u001b[1;34m(self)\u001b[0m\n\u001b[0;32m   1069\u001b[0m         \u001b[0mself\u001b[0m\u001b[1;33m.\u001b[0m\u001b[0m_messages_reconnect_reset\u001b[0m\u001b[1;33m(\u001b[0m\u001b[1;33m)\u001b[0m\u001b[1;33m\u001b[0m\u001b[1;33m\u001b[0m\u001b[0m\n\u001b[0;32m   1070\u001b[0m \u001b[1;33m\u001b[0m\u001b[0m\n\u001b[1;32m-> 1071\u001b[1;33m         \u001b[0msock\u001b[0m \u001b[1;33m=\u001b[0m \u001b[0mself\u001b[0m\u001b[1;33m.\u001b[0m\u001b[0m_create_socket_connection\u001b[0m\u001b[1;33m(\u001b[0m\u001b[1;33m)\u001b[0m\u001b[1;33m\u001b[0m\u001b[1;33m\u001b[0m\u001b[0m\n\u001b[0m\u001b[0;32m   1072\u001b[0m \u001b[1;33m\u001b[0m\u001b[0m\n\u001b[0;32m   1073\u001b[0m         \u001b[1;32mif\u001b[0m \u001b[0mself\u001b[0m\u001b[1;33m.\u001b[0m\u001b[0m_ssl\u001b[0m\u001b[1;33m:\u001b[0m\u001b[1;33m\u001b[0m\u001b[1;33m\u001b[0m\u001b[0m\n",
      "\u001b[1;32mc:\\users\\domic\\appdata\\local\\continuum\\anaconda3\\envs\\tensorflow\\lib\\site-packages\\paho\\mqtt\\client.py\u001b[0m in \u001b[0;36m_create_socket_connection\u001b[1;34m(self)\u001b[0m\n\u001b[0;32m   3520\u001b[0m             \u001b[1;32mreturn\u001b[0m \u001b[0msocks\u001b[0m\u001b[1;33m.\u001b[0m\u001b[0mcreate_connection\u001b[0m\u001b[1;33m(\u001b[0m\u001b[0maddr\u001b[0m\u001b[1;33m,\u001b[0m \u001b[0msource_address\u001b[0m\u001b[1;33m=\u001b[0m\u001b[0msource\u001b[0m\u001b[1;33m,\u001b[0m \u001b[0mtimeout\u001b[0m\u001b[1;33m=\u001b[0m\u001b[0mself\u001b[0m\u001b[1;33m.\u001b[0m\u001b[0m_keepalive\u001b[0m\u001b[1;33m,\u001b[0m \u001b[1;33m**\u001b[0m\u001b[0mproxy\u001b[0m\u001b[1;33m)\u001b[0m\u001b[1;33m\u001b[0m\u001b[1;33m\u001b[0m\u001b[0m\n\u001b[0;32m   3521\u001b[0m         \u001b[1;32melse\u001b[0m\u001b[1;33m:\u001b[0m\u001b[1;33m\u001b[0m\u001b[1;33m\u001b[0m\u001b[0m\n\u001b[1;32m-> 3522\u001b[1;33m             \u001b[1;32mreturn\u001b[0m \u001b[0msocket\u001b[0m\u001b[1;33m.\u001b[0m\u001b[0mcreate_connection\u001b[0m\u001b[1;33m(\u001b[0m\u001b[0maddr\u001b[0m\u001b[1;33m,\u001b[0m \u001b[0msource_address\u001b[0m\u001b[1;33m=\u001b[0m\u001b[0msource\u001b[0m\u001b[1;33m,\u001b[0m \u001b[0mtimeout\u001b[0m\u001b[1;33m=\u001b[0m\u001b[0mself\u001b[0m\u001b[1;33m.\u001b[0m\u001b[0m_keepalive\u001b[0m\u001b[1;33m)\u001b[0m\u001b[1;33m\u001b[0m\u001b[1;33m\u001b[0m\u001b[0m\n\u001b[0m\u001b[0;32m   3523\u001b[0m \u001b[1;33m\u001b[0m\u001b[0m\n\u001b[0;32m   3524\u001b[0m \u001b[1;33m\u001b[0m\u001b[0m\n",
      "\u001b[1;32mc:\\users\\domic\\appdata\\local\\continuum\\anaconda3\\envs\\tensorflow\\lib\\socket.py\u001b[0m in \u001b[0;36mcreate_connection\u001b[1;34m(address, timeout, source_address)\u001b[0m\n\u001b[0;32m    722\u001b[0m \u001b[1;33m\u001b[0m\u001b[0m\n\u001b[0;32m    723\u001b[0m     \u001b[1;32mif\u001b[0m \u001b[0merr\u001b[0m \u001b[1;32mis\u001b[0m \u001b[1;32mnot\u001b[0m \u001b[1;32mNone\u001b[0m\u001b[1;33m:\u001b[0m\u001b[1;33m\u001b[0m\u001b[1;33m\u001b[0m\u001b[0m\n\u001b[1;32m--> 724\u001b[1;33m         \u001b[1;32mraise\u001b[0m \u001b[0merr\u001b[0m\u001b[1;33m\u001b[0m\u001b[1;33m\u001b[0m\u001b[0m\n\u001b[0m\u001b[0;32m    725\u001b[0m     \u001b[1;32melse\u001b[0m\u001b[1;33m:\u001b[0m\u001b[1;33m\u001b[0m\u001b[1;33m\u001b[0m\u001b[0m\n\u001b[0;32m    726\u001b[0m         \u001b[1;32mraise\u001b[0m \u001b[0merror\u001b[0m\u001b[1;33m(\u001b[0m\u001b[1;34m\"getaddrinfo returns an empty list\"\u001b[0m\u001b[1;33m)\u001b[0m\u001b[1;33m\u001b[0m\u001b[1;33m\u001b[0m\u001b[0m\n",
      "\u001b[1;32mc:\\users\\domic\\appdata\\local\\continuum\\anaconda3\\envs\\tensorflow\\lib\\socket.py\u001b[0m in \u001b[0;36mcreate_connection\u001b[1;34m(address, timeout, source_address)\u001b[0m\n\u001b[0;32m    711\u001b[0m             \u001b[1;32mif\u001b[0m \u001b[0msource_address\u001b[0m\u001b[1;33m:\u001b[0m\u001b[1;33m\u001b[0m\u001b[1;33m\u001b[0m\u001b[0m\n\u001b[0;32m    712\u001b[0m                 \u001b[0msock\u001b[0m\u001b[1;33m.\u001b[0m\u001b[0mbind\u001b[0m\u001b[1;33m(\u001b[0m\u001b[0msource_address\u001b[0m\u001b[1;33m)\u001b[0m\u001b[1;33m\u001b[0m\u001b[1;33m\u001b[0m\u001b[0m\n\u001b[1;32m--> 713\u001b[1;33m             \u001b[0msock\u001b[0m\u001b[1;33m.\u001b[0m\u001b[0mconnect\u001b[0m\u001b[1;33m(\u001b[0m\u001b[0msa\u001b[0m\u001b[1;33m)\u001b[0m\u001b[1;33m\u001b[0m\u001b[1;33m\u001b[0m\u001b[0m\n\u001b[0m\u001b[0;32m    714\u001b[0m             \u001b[1;31m# Break explicitly a reference cycle\u001b[0m\u001b[1;33m\u001b[0m\u001b[1;33m\u001b[0m\u001b[1;33m\u001b[0m\u001b[0m\n\u001b[0;32m    715\u001b[0m             \u001b[0merr\u001b[0m \u001b[1;33m=\u001b[0m \u001b[1;32mNone\u001b[0m\u001b[1;33m\u001b[0m\u001b[1;33m\u001b[0m\u001b[0m\n",
      "\u001b[1;31mConnectionRefusedError\u001b[0m: [WinError 10061] Impossibile stabilire la connessione. Rifiuto persistente del computer di destinazione"
     ]
    }
   ],
   "source": [
    "#from python to broker\n",
    "\n",
    "def configuration():\n",
    "    global hubAddress, deviceId, sharedAccessKey\n",
    "    hubAddress = \"CleverWeather.azure-devices.net\"\n",
    "    device_id = random.choice(clients)  #select a random element from client list\n",
    "    if (device_id == \"foggia_1\"):\n",
    "        sharedAccessKey = \"mbjl7x2bqO3tJKHu+neU9MA7QY6ssLFtIs/EdK9h7SM=\"\n",
    "    elif (device_id == \"rome_1\"):\n",
    "        sharedAccessKey = \"TxAmqOhF4ZHBTXQ3WBOzl+afiPZyC2PtesAvQYo1WHo=\"\n",
    "    else:\n",
    "        sharedAccessKey = \"7ZelKlqvwoAty6uAvkVddJyTH5iOY1MQYpqjeI9JJE8=\"\n",
    "\n",
    "\n",
    "def on_connect(client, userdata, flags, rc):\n",
    "    print(\"Connected with result code: %s\" % rc)\n",
    "\n",
    "def on_disconnect(client, userdata, rc):\n",
    "    print(\"Disconnected with result code: %s\" % rc)\n",
    "\n",
    "def on_publish(client, userdata, mid):\n",
    "    print(\"Message {0} sent from {1}\".format(str(mid), deviceId))\n",
    "\n",
    "def publish():\n",
    "    while True:\n",
    "        try:\n",
    "            temp,hum,wind_dir,wind_int, rain = generate_weather()\n",
    "            hour = time.strftime(\"%Y-%m-%d %H:%M\", time.gmtime())\n",
    "            client.publish(topic = \"topicmiometeo/temp\", payload = temp,qos=1)\n",
    "            client.publish(topic = \"topicmiometeo/time\", payload = hour,qos=1) \n",
    "            client.publish(topic = \"topicmiometeo/hum\", payload = hum,qos=1) \n",
    "            client.publish(topic = \"topicmiometeo/wind_dir\", payload = wind_dir,qos=1) \n",
    "            client.publish(topic = \"topicmiometeo/wind_int\", payload = wind_int,qos=1) \n",
    "            client.publish(topic = \"topicmiometeo/rain\", payload = rain,qos=1) \n",
    "            \n",
    "            time.sleep(4)\n",
    "        \n",
    "        except KeyboardInterrupt:\n",
    "            print(\"Sensors stopped\")\n",
    "            return\n",
    "\n",
    "        except:\n",
    "            print(\"Unexpected error\")\n",
    "            time.sleep(4)\n",
    "\n",
    "configuration()\n",
    "client = mqtt.Client(client_id=\"pyprog\", clean_session=False, userdata=None, protocol=\"MQTTv311\", transport=\"tcp\")\n",
    "#transport is \"tcp\" or “websockets” to send MQTT over WebSockets\n",
    "\n",
    "client.on_connect = on_connect\n",
    "client.on_disconnect = on_disconnect\n",
    "client.on_publish = on_publish\n",
    "client.connect(hubAddress,port=8883, keepalive=60,bind_address=\"\")\n",
    "client.loop_start()\n",
    "\n",
    "publish()\n",
    "\n",
    "#client.username_pw_set()\n",
    "\n",
    "#hostname to definee\n",
    "\"\"\"client.publish(topic = clientid+\"/temp\", payload = temp,qos=1) \n",
    "client.publish(topic = clientid+\"/hum\", payload = hum,qos=1) \n",
    "client.publish(topic = clientid+\"/wind_dir\", payload = wind_dir,qos=1) \n",
    "client.publish(topic = clientid+\"/wind_int\", payload = wind_int,qos=1) \n",
    "client.publish(topic = clientid+\"/rain\", payload = rain,qos=1) \"\"\"\n"
   ]
  },
  {
   "cell_type": "code",
   "execution_count": 48,
   "metadata": {},
   "outputs": [
    {
     "data": {
      "text/plain": [
       "'\\nwhile True:\\n    schedule.run_pending()\\n    client.loop()\\n    time.sleep(1)\\n'"
      ]
     },
     "execution_count": 48,
     "metadata": {},
     "output_type": "execute_result"
    }
   ],
   "source": [
    "def send_data(device: str):\n",
    "    broker_url = \"test.mosquitto.org\"\n",
    "    broker_port = 1883\n",
    "    u = \"domitix\"\n",
    "    p = \"odioiot\"\n",
    "\n",
    "    client = mqtt.Client(client_id =device)\n",
    "\n",
    "    def on_connect(client, userdata, flags, rc):\n",
    "        #client connected\n",
    "        if rc==0:\n",
    "            print(\"connected OK Returned code=\",rc)\n",
    "        else:\n",
    "            print(\"Bad connection Returned code=\",rc)\n",
    "\n",
    "    def on_disconnect(client, userdata, rc):\n",
    "        #client disconnected\n",
    "        print(\"Disconnected with result code: %s\" % rc)\n",
    "\n",
    "    def on_publish(client, userdata, mid):\n",
    "        print(\"Message {0} sent from {1}\".format(str(mid), deviceId))\n",
    "\n",
    "    def on_message(client, userdata, message):\n",
    "        print(\"Message Recieved\")\n",
    "\n",
    "    client.on_connect = on_connect\n",
    "    client.on_disconnect = on_disconnect\n",
    "    client.on_publish = on_publish\n",
    "    client.on_message = on_message\n",
    "    client.loop_start()\n",
    "    client.connect(broker_url,broker_port)\n",
    "    temp,hum,wind_dir,wind_int, rain = generate_weather()\n",
    "    hour = time.strftime(\"%Y-%m-%d %H:%M\", time.gmtime())\n",
    "    client.publish(topic = \"cleverweathertopic/\"+device+\"/temp\", payload = temp,qos=1)\n",
    "    client.publish(topic = \"cleverweathertopic/\"+device+\"/time\", payload = hour,qos=1) \n",
    "    client.publish(topic = \"cleverweathertopic/\"+device+\"/hum\", payload = hum,qos=1) \n",
    "    client.publish(topic = \"cleverweathertopic/\"+device+\"/wind_dir\", payload = wind_dir,qos=1) \n",
    "    client.publish(topic = \"cleverweathertopic/\"+device+\"/wind_int\", payload = wind_int,qos=1) \n",
    "    client.publish(topic = \"cleverweathertopic/\"+device+\"/rain\", payload = rain,qos=1) \n",
    "    client.loop_stop()\n",
    "    #client.disconnect()\n",
    "    #OPPURE UN UNICO MULTIPLE MESSAGE INVIATO OGNI TOT TEMPO\n",
    "\n",
    "send_data(\"foggia_1\")\n",
    "send_data(\"roma_1\")"
   ]
  },
  {
   "cell_type": "code",
   "execution_count": null,
   "metadata": {},
   "outputs": [],
   "source": []
  },
  {
   "cell_type": "code",
   "execution_count": null,
   "metadata": {},
   "outputs": [],
   "source": []
  }
 ],
 "metadata": {
  "kernelspec": {
   "display_name": "Python 3",
   "language": "python",
   "name": "python3"
  },
  "language_info": {
   "codemirror_mode": {
    "name": "ipython",
    "version": 3
   },
   "file_extension": ".py",
   "mimetype": "text/x-python",
   "name": "python",
   "nbconvert_exporter": "python",
   "pygments_lexer": "ipython3",
   "version": "3.6.9"
  }
 },
 "nbformat": 4,
 "nbformat_minor": 4
}
